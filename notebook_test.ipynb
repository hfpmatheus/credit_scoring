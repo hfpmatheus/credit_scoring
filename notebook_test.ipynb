{
 "cells": [
  {
   "cell_type": "code",
   "execution_count": 1,
   "metadata": {},
   "outputs": [
    {
     "name": "stderr",
     "output_type": "stream",
     "text": [
      "C:\\Users\\mathe\\AppData\\Local\\Packages\\PythonSoftwareFoundation.Python.3.9_qbz5n2kfra8p0\\LocalCache\\local-packages\\Python39\\site-packages\\tqdm\\auto.py:22: TqdmWarning: IProgress not found. Please update jupyter and ipywidgets. See https://ipywidgets.readthedocs.io/en/stable/user_install.html\n",
      "  from .autonotebook import tqdm as notebook_tqdm\n"
     ]
    }
   ],
   "source": [
    "import pandas as pd\n",
    "from datarisk_lib import Datarisk_predictor\n",
    "\n",
    "# reading and merging datasets\n",
    "df_cadastral = pd.read_csv('datasets/base_cadastral.csv')\n",
    "df_info = pd.read_csv('datasets/base_info.csv')\n",
    "df_pagamentos_teste = pd.read_csv('datasets/base_pagamentos_teste.csv')\n",
    "\n",
    "df_completo = df_pagamentos_teste.merge( df_cadastral, how='left', on='ID_CLIENTE')\n",
    "df_completo = df_completo.merge( df_info, how='left', right_on=['ID_CLIENTE','SAFRA_REF'], left_on=['ID_CLIENTE','SAFRA_REF'])\n",
    "\n",
    "# instantiate class\n",
    "dpred = Datarisk_predictor()\n",
    "\n",
    "# data cleaning\n",
    "df = dpred.data_cleaning( df_completo )\n",
    "\n",
    "# feature engineering\n",
    "df = dpred.feature_engineering(df)\n",
    "\n",
    "# data preparation\n",
    "df = dpred.data_preparation( df )\n",
    "\n",
    "# prediction\n",
    "df = dpred.make_prediction( df )\n",
    "df.to_csv('resultados.csv', index=False)"
   ]
  }
 ],
 "metadata": {
  "kernelspec": {
   "display_name": "Python 3",
   "language": "python",
   "name": "python3"
  },
  "language_info": {
   "codemirror_mode": {
    "name": "ipython",
    "version": 3
   },
   "file_extension": ".py",
   "mimetype": "text/x-python",
   "name": "python",
   "nbconvert_exporter": "python",
   "pygments_lexer": "ipython3",
   "version": "3.9.13"
  },
  "orig_nbformat": 4,
  "vscode": {
   "interpreter": {
    "hash": "5e41ca046b3d9885ca897a71fa607c661abdd256ec5b789ecb59479222986451"
   }
  }
 },
 "nbformat": 4,
 "nbformat_minor": 2
}
