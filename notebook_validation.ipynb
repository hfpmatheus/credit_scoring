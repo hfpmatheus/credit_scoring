{
 "cells": [
  {
   "cell_type": "markdown",
   "metadata": {},
   "source": [
    "# 0.0 IMPORTS"
   ]
  },
  {
   "cell_type": "code",
   "execution_count": 1,
   "metadata": {},
   "outputs": [
    {
     "name": "stderr",
     "output_type": "stream",
     "text": [
      "C:\\Users\\mathe\\AppData\\Local\\Packages\\PythonSoftwareFoundation.Python.3.9_qbz5n2kfra8p0\\LocalCache\\local-packages\\Python39\\site-packages\\tqdm\\auto.py:22: TqdmWarning: IProgress not found. Please update jupyter and ipywidgets. See https://ipywidgets.readthedocs.io/en/stable/user_install.html\n",
      "  from .autonotebook import tqdm as notebook_tqdm\n"
     ]
    }
   ],
   "source": [
    "import warnings\n",
    "import sweetviz\n",
    "import pickle\n",
    "\n",
    "import pandas            as pd\n",
    "import numpy             as np\n",
    "import lightgbm          as lgb\n",
    "import xgboost           as xgb\n",
    "import seaborn           as sns\n",
    "\n",
    "from category_encoders       import TargetEncoder\n",
    "from sklearn.ensemble        import ExtraTreesClassifier, RandomForestClassifier\n",
    "from sklearn.model_selection import cross_val_score, KFold\n",
    "from datetime                import datetime\n",
    "from dateutil                import relativedelta\n",
    "from sklearn.preprocessing   import RobustScaler, MinMaxScaler\n",
    "from skopt                   import gp_minimize\n",
    "from pandas_profiling        import ProfileReport\n",
    "\n",
    "from sklearn                 import model_selection   as ms\n",
    "from sklearn                 import metrics           as m\n",
    "from matplotlib              import pyplot            as plt\n",
    "from imblearn                import combine           as co"
   ]
  },
  {
   "cell_type": "markdown",
   "metadata": {},
   "source": [
    "## 0.1 AUX FUNCTIONS"
   ]
  },
  {
   "cell_type": "code",
   "execution_count": 2,
   "metadata": {},
   "outputs": [],
   "source": [
    "warnings.filterwarnings('ignore')\n",
    "pd.set_option('display.max_columns', 200)\n",
    "pd.set_option('display.max_rows', 200)\n",
    "\n",
    "def ml_error( model_name, ytest, yhat ):\n",
    "    f1 = m.f1_score( ytest, yhat )\n",
    "    precison = m.precision_score( ytest, yhat )\n",
    "    recall = m.recall_score( ytest, yhat )\n",
    "\n",
    "    return pd.DataFrame( {'Model name': model_name,\n",
    "                          'F1': f1,\n",
    "                          'precison': precison,\n",
    "                          'recall': recall  }, index=[0] )\n",
    "\n",
    "def diff_month(d1, d2):\n",
    "    return (d1.year - d2.year) * 12 + d1.month - d2.month\n",
    "\n",
    "def diff_days(d1, d2):\n",
    "    return (d1.year - d2.year) * 365 + d1.month - d2.month"
   ]
  },
  {
   "cell_type": "markdown",
   "metadata": {},
   "source": [
    "## 0.2 READ DATASETS"
   ]
  },
  {
   "cell_type": "code",
   "execution_count": 3,
   "metadata": {},
   "outputs": [],
   "source": [
    "df_cadastral = pd.read_csv('datasets/base_cadastral.csv')\n",
    "df_info = pd.read_csv('datasets/base_info.csv')\n",
    "df_pagamentos_desenvolvimento = pd.read_csv('datasets/base_pagamentos_desenvolvimento.csv')\n",
    "df_pagamentos_teste = pd.read_csv('datasets/base_pagamentos_teste.csv')"
   ]
  },
  {
   "cell_type": "code",
   "execution_count": 4,
   "metadata": {},
   "outputs": [],
   "source": [
    "# merge datasets\n",
    "df_completo = df_pagamentos_desenvolvimento.merge( df_cadastral, how='left', on='ID_CLIENTE')\n",
    "df_completo = df_completo.merge( df_info, how='left', right_on=['ID_CLIENTE','SAFRA_REF'], left_on=['ID_CLIENTE','SAFRA_REF'])"
   ]
  },
  {
   "cell_type": "markdown",
   "metadata": {},
   "source": [
    "# 1.0 DATA DESCRIPTION"
   ]
  },
  {
   "cell_type": "code",
   "execution_count": 5,
   "metadata": {},
   "outputs": [],
   "source": [
    "df1 = df_completo.copy()"
   ]
  },
  {
   "attachments": {},
   "cell_type": "markdown",
   "metadata": {},
   "source": [
    "## 1.1 SHAPE"
   ]
  },
  {
   "cell_type": "code",
   "execution_count": 6,
   "metadata": {},
   "outputs": [
    {
     "name": "stdout",
     "output_type": "stream",
     "text": [
      "Rows: 77414\n",
      "Columns: 16\n"
     ]
    }
   ],
   "source": [
    "print( f\"Rows: {df1.shape[0]}\" )\n",
    "print( f\"Columns: {df1.shape[1]}\" )"
   ]
  },
  {
   "attachments": {},
   "cell_type": "markdown",
   "metadata": {},
   "source": [
    "## 1.2 DATA TYPES"
   ]
  },
  {
   "cell_type": "code",
   "execution_count": 7,
   "metadata": {},
   "outputs": [
    {
     "data": {
      "text/plain": [
       "ID_CLIENTE                  int64\n",
       "SAFRA_REF                  object\n",
       "DATA_EMISSAO_DOCUMENTO     object\n",
       "DATA_PAGAMENTO             object\n",
       "DATA_VENCIMENTO            object\n",
       "VALOR_A_PAGAR             float64\n",
       "TAXA                      float64\n",
       "DATA_CADASTRO              object\n",
       "DDD                        object\n",
       "FLAG_PF                    object\n",
       "SEGMENTO_INDUSTRIAL        object\n",
       "DOMINIO_EMAIL              object\n",
       "PORTE                      object\n",
       "CEP_2_DIG                  object\n",
       "RENDA_MES_ANTERIOR        float64\n",
       "NO_FUNCIONARIOS           float64\n",
       "dtype: object"
      ]
     },
     "execution_count": 7,
     "metadata": {},
     "output_type": "execute_result"
    }
   ],
   "source": [
    "df1.dtypes"
   ]
  },
  {
   "attachments": {},
   "cell_type": "markdown",
   "metadata": {},
   "source": [
    "### 1.2.1 CHANGE DTYPES"
   ]
  },
  {
   "cell_type": "code",
   "execution_count": 8,
   "metadata": {},
   "outputs": [],
   "source": [
    "df1['DATA_EMISSAO_DOCUMENTO'] = pd.to_datetime( df1['DATA_EMISSAO_DOCUMENTO'] )\n",
    "df1['DATA_PAGAMENTO'] = pd.to_datetime( df1['DATA_PAGAMENTO'] )\n",
    "df1['DATA_VENCIMENTO'] = pd.to_datetime( df1['DATA_VENCIMENTO'] )\n",
    "df1['DATA_CADASTRO'] = pd.to_datetime( df1['DATA_CADASTRO'] )\n",
    "\n",
    "df1['DDD'] = df1['DDD'].apply(lambda x: x.replace(\"(\", \"\") if type(x) is not float else x)\n",
    "df1['DDD'] = df1['DDD'].astype(float)\n",
    "\n",
    "df1['CEP_2_DIG'] = df1['CEP_2_DIG'].apply( lambda x: np.nan if x==\"na\" else x)\n",
    "df1['CEP_2_DIG'] = df1['CEP_2_DIG'].astype(float)"
   ]
  },
  {
   "attachments": {},
   "cell_type": "markdown",
   "metadata": {},
   "source": [
    "## 1.3 CHECK NA"
   ]
  },
  {
   "cell_type": "code",
   "execution_count": 9,
   "metadata": {},
   "outputs": [
    {
     "data": {
      "text/plain": [
       "ID_CLIENTE                    0\n",
       "SAFRA_REF                     0\n",
       "DATA_EMISSAO_DOCUMENTO        0\n",
       "DATA_PAGAMENTO                0\n",
       "DATA_VENCIMENTO               0\n",
       "VALOR_A_PAGAR                 0\n",
       "TAXA                          0\n",
       "DATA_CADASTRO                 0\n",
       "DDD                        7414\n",
       "FLAG_PF                   77195\n",
       "SEGMENTO_INDUSTRIAL        1417\n",
       "DOMINIO_EMAIL               898\n",
       "PORTE                      2476\n",
       "CEP_2_DIG                     8\n",
       "RENDA_MES_ANTERIOR         3937\n",
       "NO_FUNCIONARIOS            3937\n",
       "dtype: int64"
      ]
     },
     "execution_count": 9,
     "metadata": {},
     "output_type": "execute_result"
    }
   ],
   "source": [
    "df1.isna().sum()"
   ]
  },
  {
   "attachments": {},
   "cell_type": "markdown",
   "metadata": {},
   "source": [
    "### 1.3.1 FILL NA"
   ]
  },
  {
   "cell_type": "code",
   "execution_count": 10,
   "metadata": {},
   "outputs": [],
   "source": [
    "df1['FLAG_PF'] = df1['FLAG_PF'].apply( lambda x: 1 if x=='X' else 0)\n",
    "\n",
    "df1['RENDA_MES_ANTERIOR'] = df1.groupby(['ID_CLIENTE']).ffill()['RENDA_MES_ANTERIOR']\n",
    "df1['RENDA_MES_ANTERIOR'] = df1['RENDA_MES_ANTERIOR'].fillna(0)\n",
    "\n",
    "df1['NO_FUNCIONARIOS'] = df1.groupby(['ID_CLIENTE']).ffill()['NO_FUNCIONARIOS']\n",
    "df1['NO_FUNCIONARIOS'] = df1['NO_FUNCIONARIOS'].fillna(0)\n",
    "\n",
    "df1 = df1.fillna(0)"
   ]
  },
  {
   "attachments": {},
   "cell_type": "markdown",
   "metadata": {},
   "source": [
    "## 1.4 DESCRIPTIVE STATISTICS"
   ]
  },
  {
   "attachments": {},
   "cell_type": "markdown",
   "metadata": {},
   "source": [
    "### 1.4.1 NUMERICAL FEATURES"
   ]
  },
  {
   "cell_type": "code",
   "execution_count": 11,
   "metadata": {},
   "outputs": [
    {
     "data": {
      "text/html": [
       "<div>\n",
       "<style scoped>\n",
       "    .dataframe tbody tr th:only-of-type {\n",
       "        vertical-align: middle;\n",
       "    }\n",
       "\n",
       "    .dataframe tbody tr th {\n",
       "        vertical-align: top;\n",
       "    }\n",
       "\n",
       "    .dataframe thead th {\n",
       "        text-align: right;\n",
       "    }\n",
       "</style>\n",
       "<table border=\"1\" class=\"dataframe\">\n",
       "  <thead>\n",
       "    <tr style=\"text-align: right;\">\n",
       "      <th></th>\n",
       "      <th>count</th>\n",
       "      <th>mean</th>\n",
       "      <th>std</th>\n",
       "      <th>min</th>\n",
       "      <th>25%</th>\n",
       "      <th>50%</th>\n",
       "      <th>75%</th>\n",
       "      <th>max</th>\n",
       "    </tr>\n",
       "  </thead>\n",
       "  <tbody>\n",
       "    <tr>\n",
       "      <th>VALOR_A_PAGAR</th>\n",
       "      <td>77414.0</td>\n",
       "      <td>46565.460584</td>\n",
       "      <td>46338.921030</td>\n",
       "      <td>0.10</td>\n",
       "      <td>18752.745</td>\n",
       "      <td>34751.35</td>\n",
       "      <td>60884.205</td>\n",
       "      <td>4400000.00</td>\n",
       "    </tr>\n",
       "    <tr>\n",
       "      <th>TAXA</th>\n",
       "      <td>77414.0</td>\n",
       "      <td>6.789623</td>\n",
       "      <td>1.798225</td>\n",
       "      <td>4.99</td>\n",
       "      <td>5.990</td>\n",
       "      <td>5.99</td>\n",
       "      <td>6.990</td>\n",
       "      <td>11.99</td>\n",
       "    </tr>\n",
       "    <tr>\n",
       "      <th>RENDA_MES_ANTERIOR</th>\n",
       "      <td>77414.0</td>\n",
       "      <td>285130.100938</td>\n",
       "      <td>214887.801446</td>\n",
       "      <td>0.00</td>\n",
       "      <td>126902.000</td>\n",
       "      <td>235330.00</td>\n",
       "      <td>391492.000</td>\n",
       "      <td>1682759.00</td>\n",
       "    </tr>\n",
       "    <tr>\n",
       "      <th>NO_FUNCIONARIOS</th>\n",
       "      <td>77414.0</td>\n",
       "      <td>115.212093</td>\n",
       "      <td>25.020656</td>\n",
       "      <td>0.00</td>\n",
       "      <td>105.000</td>\n",
       "      <td>117.00</td>\n",
       "      <td>130.000</td>\n",
       "      <td>198.00</td>\n",
       "    </tr>\n",
       "  </tbody>\n",
       "</table>\n",
       "</div>"
      ],
      "text/plain": [
       "                      count           mean            std   min         25%  \\\n",
       "VALOR_A_PAGAR       77414.0   46565.460584   46338.921030  0.10   18752.745   \n",
       "TAXA                77414.0       6.789623       1.798225  4.99       5.990   \n",
       "RENDA_MES_ANTERIOR  77414.0  285130.100938  214887.801446  0.00  126902.000   \n",
       "NO_FUNCIONARIOS     77414.0     115.212093      25.020656  0.00     105.000   \n",
       "\n",
       "                          50%         75%         max  \n",
       "VALOR_A_PAGAR        34751.35   60884.205  4400000.00  \n",
       "TAXA                     5.99       6.990       11.99  \n",
       "RENDA_MES_ANTERIOR  235330.00  391492.000  1682759.00  \n",
       "NO_FUNCIONARIOS        117.00     130.000      198.00  "
      ]
     },
     "execution_count": 11,
     "metadata": {},
     "output_type": "execute_result"
    }
   ],
   "source": [
    "df1[['VALOR_A_PAGAR','TAXA','RENDA_MES_ANTERIOR','NO_FUNCIONARIOS']].describe().T"
   ]
  },
  {
   "attachments": {},
   "cell_type": "markdown",
   "metadata": {},
   "source": [
    "### 1.4.2 CATEGORICAL FEATURES"
   ]
  },
  {
   "cell_type": "code",
   "execution_count": 12,
   "metadata": {},
   "outputs": [
    {
     "data": {
      "text/html": [
       "<div>\n",
       "<style scoped>\n",
       "    .dataframe tbody tr th:only-of-type {\n",
       "        vertical-align: middle;\n",
       "    }\n",
       "\n",
       "    .dataframe tbody tr th {\n",
       "        vertical-align: top;\n",
       "    }\n",
       "\n",
       "    .dataframe thead th {\n",
       "        text-align: right;\n",
       "    }\n",
       "</style>\n",
       "<table border=\"1\" class=\"dataframe\">\n",
       "  <thead>\n",
       "    <tr style=\"text-align: right;\">\n",
       "      <th></th>\n",
       "      <th>count</th>\n",
       "      <th>unique</th>\n",
       "      <th>top</th>\n",
       "      <th>freq</th>\n",
       "    </tr>\n",
       "  </thead>\n",
       "  <tbody>\n",
       "    <tr>\n",
       "      <th>DOMINIO_EMAIL</th>\n",
       "      <td>77414</td>\n",
       "      <td>7</td>\n",
       "      <td>YAHOO</td>\n",
       "      <td>25322</td>\n",
       "    </tr>\n",
       "    <tr>\n",
       "      <th>SEGMENTO_INDUSTRIAL</th>\n",
       "      <td>77414</td>\n",
       "      <td>4</td>\n",
       "      <td>Serviços</td>\n",
       "      <td>31638</td>\n",
       "    </tr>\n",
       "    <tr>\n",
       "      <th>PORTE</th>\n",
       "      <td>77414</td>\n",
       "      <td>4</td>\n",
       "      <td>MEDIO</td>\n",
       "      <td>29929</td>\n",
       "    </tr>\n",
       "  </tbody>\n",
       "</table>\n",
       "</div>"
      ],
      "text/plain": [
       "                     count unique       top   freq\n",
       "DOMINIO_EMAIL        77414      7     YAHOO  25322\n",
       "SEGMENTO_INDUSTRIAL  77414      4  Serviços  31638\n",
       "PORTE                77414      4     MEDIO  29929"
      ]
     },
     "execution_count": 12,
     "metadata": {},
     "output_type": "execute_result"
    }
   ],
   "source": [
    "df1[['DOMINIO_EMAIL','SEGMENTO_INDUSTRIAL','PORTE']].describe().T"
   ]
  },
  {
   "attachments": {},
   "cell_type": "markdown",
   "metadata": {},
   "source": [
    "# 2.0 DATA FILTERING"
   ]
  },
  {
   "cell_type": "code",
   "execution_count": 13,
   "metadata": {},
   "outputs": [],
   "source": [
    "df2 = df1.copy()"
   ]
  },
  {
   "attachments": {},
   "cell_type": "markdown",
   "metadata": {},
   "source": [
    "# 3.0 FEATURE ENGINEERING"
   ]
  },
  {
   "cell_type": "code",
   "execution_count": 14,
   "metadata": {},
   "outputs": [],
   "source": [
    "df3 = df2.copy()"
   ]
  },
  {
   "cell_type": "code",
   "execution_count": 15,
   "metadata": {},
   "outputs": [],
   "source": [
    "# creating target variable\n",
    "df3['tempo_sem_pagar'] = df3['DATA_PAGAMENTO'] - df3['DATA_VENCIMENTO']\n",
    "df3['tempo_sem_pagar'] = df3['tempo_sem_pagar'].dt.days\n",
    "df3['inadimplente'] = df3['tempo_sem_pagar'].apply( lambda x: 0 if x < 5 else 1)"
   ]
  },
  {
   "cell_type": "code",
   "execution_count": 16,
   "metadata": {},
   "outputs": [],
   "source": [
    "df3['prazo_em_dias'] = df3['DATA_VENCIMENTO'] - df3['DATA_EMISSAO_DOCUMENTO']\n",
    "df3['prazo_em_dias'] = df3['prazo_em_dias'].dt.days\n",
    "\n",
    "df3['meses_desde_cadastro'] = df3.apply( lambda x: diff_month(x.DATA_EMISSAO_DOCUMENTO, x.DATA_CADASTRO), axis=1)\n",
    "df3['dias_desde_cadastro'] = df3.apply( lambda x: diff_days(x.DATA_EMISSAO_DOCUMENTO, x.DATA_CADASTRO), axis=1)\n",
    "\n",
    "df3['valor_emprestimo'] = df3.apply( lambda x: x['VALOR_A_PAGAR'] / (1 + x['TAXA'] / 100), axis=1 )\n",
    "\n",
    "df3['diff_renda'] = df3['RENDA_MES_ANTERIOR'] - df3['VALOR_A_PAGAR']\n",
    "\n",
    "df3['len_credit_history'] = np.nan\n",
    "for id in df3['ID_CLIENTE'].unique():\n",
    "    len_credit_history = len(df3.loc[df3['ID_CLIENTE']==id])\n",
    "    df3.loc[df3['ID_CLIENTE']==id, 'len_credit_history'] = len_credit_history\n",
    "\n",
    "df3 = df3.assign(ultima_data_emprestimo=df3.groupby('ID_CLIENTE').DATA_EMISSAO_DOCUMENTO.apply(lambda x: x.diff().dt.days))\n",
    "df3['ultima_data_emprestimo'] = df3['ultima_data_emprestimo'].fillna(0)"
   ]
  },
  {
   "cell_type": "markdown",
   "metadata": {},
   "source": [
    "# 4.0 EDA"
   ]
  },
  {
   "cell_type": "code",
   "execution_count": 17,
   "metadata": {},
   "outputs": [],
   "source": [
    "df4 = df3.copy()"
   ]
  },
  {
   "cell_type": "code",
   "execution_count": 18,
   "metadata": {},
   "outputs": [],
   "source": [
    "# # generating pandas profile report\n",
    "# profile = ProfileReport(df4)\n",
    "# profile.to_file('eda-analysis.html')"
   ]
  },
  {
   "cell_type": "markdown",
   "metadata": {},
   "source": [
    "# 5.0 DATA PREPARATION"
   ]
  },
  {
   "cell_type": "code",
   "execution_count": 19,
   "metadata": {},
   "outputs": [],
   "source": [
    "df5 = df3.copy()\n",
    "df5.drop( columns=['tempo_sem_pagar','DATA_PAGAMENTO'], inplace=True )"
   ]
  },
  {
   "attachments": {},
   "cell_type": "markdown",
   "metadata": {},
   "source": [
    "## 5.1 Encoding"
   ]
  },
  {
   "cell_type": "code",
   "execution_count": 20,
   "metadata": {},
   "outputs": [],
   "source": [
    "# target encoder\n",
    "te = TargetEncoder()\n",
    "\n",
    "df5['SAFRA_REF'] = df5['SAFRA_REF'].astype(str)\n",
    "df5['DATA_EMISSAO_DOCUMENTO'] = df5['DATA_EMISSAO_DOCUMENTO'].astype(str)\n",
    "df5['DATA_VENCIMENTO'] = df5['DATA_VENCIMENTO'].astype(str)\n",
    "df5['DATA_CADASTRO'] = df5['DATA_CADASTRO'].astype(str)\n",
    "\n",
    "df5['SEGMENTO_INDUSTRIAL'] = te.fit_transform( df5['SEGMENTO_INDUSTRIAL'], df5['inadimplente'] )\n",
    "pickle.dump( te, open( 'encoders/segmento_industrial_encoding', 'wb') )\n",
    "\n",
    "df5['DOMINIO_EMAIL'] = te.fit_transform( df5['DOMINIO_EMAIL'], df5['inadimplente'] )\n",
    "pickle.dump( te, open( 'encoders/dominio_email_encoding', 'wb') )\n",
    "\n",
    "df5['PORTE'] = te.fit_transform( df5['PORTE'], df5['inadimplente'] )\n",
    "pickle.dump( te, open( 'encoders/porte_encoding', 'wb') )\n",
    "\n",
    "df5['SAFRA_REF'] = te.fit_transform( df5['SAFRA_REF'], df5['inadimplente'] )\n",
    "pickle.dump( te, open( 'encoders/safra_ref_encoding', 'wb') )\n",
    "\n",
    "df5['DATA_EMISSAO_DOCUMENTO'] = te.fit_transform( df5['DATA_EMISSAO_DOCUMENTO'], df5['inadimplente'] )\n",
    "pickle.dump( te, open( 'encoders/data_emissao_documento_encoding', 'wb') )\n",
    "\n",
    "df5['DATA_VENCIMENTO'] = te.fit_transform( df5['DATA_VENCIMENTO'], df5['inadimplente'] )\n",
    "pickle.dump( te, open( 'encoders/data_vencimento_encoding', 'wb') )\n",
    "\n",
    "df5['DATA_CADASTRO'] = te.fit_transform( df5['DATA_CADASTRO'], df5['inadimplente'] )\n",
    "pickle.dump( te, open( 'encoders/data_cadastro_encoding', 'wb') )"
   ]
  },
  {
   "attachments": {},
   "cell_type": "markdown",
   "metadata": {},
   "source": [
    "## 5.2 Rescaling"
   ]
  },
  {
   "cell_type": "code",
   "execution_count": 21,
   "metadata": {},
   "outputs": [],
   "source": [
    "# Min Max Scaler\n",
    "mms = MinMaxScaler()\n",
    "\n",
    "df5['TAXA'] = mms.fit_transform( df5[['TAXA']].values )\n",
    "pickle.dump( mms, open( 'scalers/TAXA_scaler', 'wb') )\n",
    "\n",
    "df5['CEP_2_DIG'] = mms.fit_transform( df5[['CEP_2_DIG']].values )\n",
    "pickle.dump( mms, open( 'scalers/CEP_2_DIG_scaler', 'wb') )\t\n",
    "\n",
    "df5['NO_FUNCIONARIOS'] = mms.fit_transform( df5[['NO_FUNCIONARIOS']].values )\n",
    "pickle.dump( mms, open( 'scalers/NO_FUNCIONARIOS_scaler', 'wb') )\t\n",
    "\n",
    "df5['prazo_em_dias'] = mms.fit_transform( df5[['prazo_em_dias']].values )\n",
    "pickle.dump( mms, open( 'scalers/prazo_em_dias_scaler', 'wb') )\n",
    "# \t\n",
    "df5['dias_desde_cadastro'] = mms.fit_transform( df5[['dias_desde_cadastro']].values )\n",
    "pickle.dump( mms, open( 'scalers/dias_desde_cadastro_scaler', 'wb') )\t\n",
    "\n",
    "df5['len_credit_history'] = mms.fit_transform( df5[['len_credit_history']].values )\n",
    "pickle.dump( mms, open( 'scalers/len_credit_history_scaler', 'wb') )\n",
    "\n",
    "df5['ultima_data_emprestimo'] = mms.fit_transform( df5[['ultima_data_emprestimo']].values )\n",
    "pickle.dump( mms, open( 'scalers/ultima_data_emprestimo_scaler', 'wb') )\t\n",
    "\n",
    "# Robust Scaler\n",
    "rs = RobustScaler()\n",
    "\n",
    "df5['VALOR_A_PAGAR'] = rs.fit_transform( df5[['VALOR_A_PAGAR']].values )\n",
    "pickle.dump( mms, open( 'scalers/VALOR_A_PAGAR_scaler', 'wb') )\t\n",
    "\n",
    "df5['RENDA_MES_ANTERIOR'] = rs.fit_transform( df5[['RENDA_MES_ANTERIOR']].values )\n",
    "pickle.dump( mms, open( 'scalers/RENDA_MES_ANTERIOR_scaler', 'wb') )\t\n",
    "\n",
    "df5['valor_emprestimo'] = rs.fit_transform( df5[['valor_emprestimo']].values )\n",
    "pickle.dump( mms, open( 'scalers/valor_emprestimo_scaler', 'wb') )\t\n",
    "\n",
    "df5['diff_renda'] = rs.fit_transform( df5[['diff_renda']].values )\n",
    "pickle.dump( mms, open( 'scalers/diff_renda_scaler', 'wb') )"
   ]
  },
  {
   "attachments": {},
   "cell_type": "markdown",
   "metadata": {},
   "source": [
    "# 6.0 FEATURE SELECTION"
   ]
  },
  {
   "cell_type": "code",
   "execution_count": 22,
   "metadata": {},
   "outputs": [
    {
     "data": {
      "text/html": [
       "<style>#sk-container-id-1 {color: black;background-color: white;}#sk-container-id-1 pre{padding: 0;}#sk-container-id-1 div.sk-toggleable {background-color: white;}#sk-container-id-1 label.sk-toggleable__label {cursor: pointer;display: block;width: 100%;margin-bottom: 0;padding: 0.3em;box-sizing: border-box;text-align: center;}#sk-container-id-1 label.sk-toggleable__label-arrow:before {content: \"▸\";float: left;margin-right: 0.25em;color: #696969;}#sk-container-id-1 label.sk-toggleable__label-arrow:hover:before {color: black;}#sk-container-id-1 div.sk-estimator:hover label.sk-toggleable__label-arrow:before {color: black;}#sk-container-id-1 div.sk-toggleable__content {max-height: 0;max-width: 0;overflow: hidden;text-align: left;background-color: #f0f8ff;}#sk-container-id-1 div.sk-toggleable__content pre {margin: 0.2em;color: black;border-radius: 0.25em;background-color: #f0f8ff;}#sk-container-id-1 input.sk-toggleable__control:checked~div.sk-toggleable__content {max-height: 200px;max-width: 100%;overflow: auto;}#sk-container-id-1 input.sk-toggleable__control:checked~label.sk-toggleable__label-arrow:before {content: \"▾\";}#sk-container-id-1 div.sk-estimator input.sk-toggleable__control:checked~label.sk-toggleable__label {background-color: #d4ebff;}#sk-container-id-1 div.sk-label input.sk-toggleable__control:checked~label.sk-toggleable__label {background-color: #d4ebff;}#sk-container-id-1 input.sk-hidden--visually {border: 0;clip: rect(1px 1px 1px 1px);clip: rect(1px, 1px, 1px, 1px);height: 1px;margin: -1px;overflow: hidden;padding: 0;position: absolute;width: 1px;}#sk-container-id-1 div.sk-estimator {font-family: monospace;background-color: #f0f8ff;border: 1px dotted black;border-radius: 0.25em;box-sizing: border-box;margin-bottom: 0.5em;}#sk-container-id-1 div.sk-estimator:hover {background-color: #d4ebff;}#sk-container-id-1 div.sk-parallel-item::after {content: \"\";width: 100%;border-bottom: 1px solid gray;flex-grow: 1;}#sk-container-id-1 div.sk-label:hover label.sk-toggleable__label {background-color: #d4ebff;}#sk-container-id-1 div.sk-serial::before {content: \"\";position: absolute;border-left: 1px solid gray;box-sizing: border-box;top: 0;bottom: 0;left: 50%;z-index: 0;}#sk-container-id-1 div.sk-serial {display: flex;flex-direction: column;align-items: center;background-color: white;padding-right: 0.2em;padding-left: 0.2em;position: relative;}#sk-container-id-1 div.sk-item {position: relative;z-index: 1;}#sk-container-id-1 div.sk-parallel {display: flex;align-items: stretch;justify-content: center;background-color: white;position: relative;}#sk-container-id-1 div.sk-item::before, #sk-container-id-1 div.sk-parallel-item::before {content: \"\";position: absolute;border-left: 1px solid gray;box-sizing: border-box;top: 0;bottom: 0;left: 50%;z-index: -1;}#sk-container-id-1 div.sk-parallel-item {display: flex;flex-direction: column;z-index: 1;position: relative;background-color: white;}#sk-container-id-1 div.sk-parallel-item:first-child::after {align-self: flex-end;width: 50%;}#sk-container-id-1 div.sk-parallel-item:last-child::after {align-self: flex-start;width: 50%;}#sk-container-id-1 div.sk-parallel-item:only-child::after {width: 0;}#sk-container-id-1 div.sk-dashed-wrapped {border: 1px dashed gray;margin: 0 0.4em 0.5em 0.4em;box-sizing: border-box;padding-bottom: 0.4em;background-color: white;}#sk-container-id-1 div.sk-label label {font-family: monospace;font-weight: bold;display: inline-block;line-height: 1.2em;}#sk-container-id-1 div.sk-label-container {text-align: center;}#sk-container-id-1 div.sk-container {/* jupyter's `normalize.less` sets `[hidden] { display: none; }` but bootstrap.min.css set `[hidden] { display: none !important; }` so we also need the `!important` here to be able to override the default hidden behavior on the sphinx rendered scikit-learn.org. See: https://github.com/scikit-learn/scikit-learn/issues/21755 */display: inline-block !important;position: relative;}#sk-container-id-1 div.sk-text-repr-fallback {display: none;}</style><div id=\"sk-container-id-1\" class=\"sk-top-container\"><div class=\"sk-text-repr-fallback\"><pre>ExtraTreesClassifier(n_jobs=-1)</pre><b>In a Jupyter environment, please rerun this cell to show the HTML representation or trust the notebook. <br />On GitHub, the HTML representation is unable to render, please try loading this page with nbviewer.org.</b></div><div class=\"sk-container\" hidden><div class=\"sk-item\"><div class=\"sk-estimator sk-toggleable\"><input class=\"sk-toggleable__control sk-hidden--visually\" id=\"sk-estimator-id-1\" type=\"checkbox\" checked><label for=\"sk-estimator-id-1\" class=\"sk-toggleable__label sk-toggleable__label-arrow\">ExtraTreesClassifier</label><div class=\"sk-toggleable__content\"><pre>ExtraTreesClassifier(n_jobs=-1)</pre></div></div></div></div></div>"
      ],
      "text/plain": [
       "ExtraTreesClassifier(n_jobs=-1)"
      ]
     },
     "execution_count": 22,
     "metadata": {},
     "output_type": "execute_result"
    }
   ],
   "source": [
    "# model\n",
    "forest = ExtraTreesClassifier( n_jobs=-1 )\n",
    "\n",
    "# training\n",
    "X = df5.drop(columns=['inadimplente'])\n",
    "Y = df5['inadimplente'].values\n",
    "\n",
    "x_train_fselection, x_val, y_train_fselection, y_val = ms.train_test_split( X, Y, test_size=0.5, random_state=42 )\n",
    "\n",
    "forest.fit( x_train_fselection, y_train_fselection )"
   ]
  },
  {
   "cell_type": "code",
   "execution_count": 23,
   "metadata": {},
   "outputs": [
    {
     "name": "stdout",
     "output_type": "stream",
     "text": [
      "Feature Ranking:\n",
      "\n",
      "                  feature  importance\n",
      "0           DATA_CADASTRO    0.169021\n",
      "0         DATA_VENCIMENTO    0.090579\n",
      "0  DATA_EMISSAO_DOCUMENTO    0.067676\n",
      "0           VALOR_A_PAGAR    0.062678\n",
      "0        valor_emprestimo    0.062215\n",
      "0           prazo_em_dias    0.061433\n",
      "0    meses_desde_cadastro    0.041669\n",
      "0     dias_desde_cadastro    0.040118\n",
      "0              diff_renda    0.040039\n",
      "0  ultima_data_emprestimo    0.039322\n",
      "0               SAFRA_REF    0.037737\n",
      "0         NO_FUNCIONARIOS    0.036769\n",
      "0      len_credit_history    0.036683\n",
      "0      RENDA_MES_ANTERIOR    0.034814\n",
      "0                     DDD    0.029579\n",
      "0                    TAXA    0.029215\n",
      "0                   PORTE    0.027144\n",
      "0               CEP_2_DIG    0.026900\n",
      "0              ID_CLIENTE    0.026490\n",
      "0           DOMINIO_EMAIL    0.021509\n",
      "0     SEGMENTO_INDUSTRIAL    0.017537\n",
      "0                 FLAG_PF    0.000872\n"
     ]
    },
    {
     "data": {
      "image/png": "[encoded data removed]",
      "text/plain": [
       "<Figure size 720x360 with 1 Axes>"
      ]
     },
     "metadata": {
      "needs_background": "light"
     },
     "output_type": "display_data"
    }
   ],
   "source": [
    "importances = forest.feature_importances_\n",
    "std = np.std( [tree.feature_importances_ for tree in forest.estimators_], axis=0 )\n",
    "indices = np.argsort( importances )[::-1]\n",
    "\n",
    "# print the feature ranking\n",
    "df = pd.DataFrame()\n",
    "\n",
    "print( 'Feature Ranking:\\n' )\n",
    "for i, j in zip( x_train_fselection,forest.feature_importances_ ):\n",
    "    aux = pd.DataFrame( {'feature': i, 'importance': j}, index=[0] )\n",
    "    df = pd.concat( [df, aux], axis=0 )\n",
    "    \n",
    "print( df.sort_values( 'importance', ascending=False ) ) \n",
    "\n",
    "# plot the impurity-based feature importances of the forest\n",
    "plt.figure(figsize=(10,5))\n",
    "plt.title( 'Feature importances' )\n",
    "plt.bar( range( x_train_fselection.shape[1] ), importances[indices], color='r', yerr=std[indices], align='center' )\n",
    "plt.xticks( range(x_train_fselection.shape[1]), indices )\n",
    "plt.xlim( [-1, x_train_fselection.shape[1]] )\n",
    "plt.show()"
   ]
  },
  {
   "cell_type": "code",
   "execution_count": 24,
   "metadata": {},
   "outputs": [],
   "source": [
    "columns_to_delete = ['inadimplente']"
   ]
  },
  {
   "attachments": {},
   "cell_type": "markdown",
   "metadata": {},
   "source": [
    "# 7.0 HANDLING IMBALANCED DATA"
   ]
  },
  {
   "cell_type": "code",
   "execution_count": 25,
   "metadata": {},
   "outputs": [],
   "source": [
    "df_features = df5.drop( columns=columns_to_delete)\n",
    "df_target = df5['inadimplente'].copy()"
   ]
  },
  {
   "cell_type": "code",
   "execution_count": 26,
   "metadata": {},
   "outputs": [],
   "source": [
    "# define\n",
    "smt = co.SMOTETomek()\n",
    "\n",
    "# apply\n",
    "features_smtk, target_smtk = smt.fit_resample( df_features, df_target )"
   ]
  },
  {
   "attachments": {},
   "cell_type": "markdown",
   "metadata": {},
   "source": [
    "# 8.0 MACHINE LEARNING"
   ]
  },
  {
   "cell_type": "code",
   "execution_count": 27,
   "metadata": {},
   "outputs": [],
   "source": [
    "X = features_smtk\n",
    "Y = target_smtk\n",
    "\n",
    "X_train, X_val, y_train, y_val = ms.train_test_split( X, Y, test_size=0.2, random_state=42 )"
   ]
  },
  {
   "attachments": {},
   "cell_type": "markdown",
   "metadata": {},
   "source": [
    "## 8.1 LightGBM"
   ]
  },
  {
   "cell_type": "code",
   "execution_count": 28,
   "metadata": {},
   "outputs": [
    {
     "data": {
      "text/html": [
       "<div>\n",
       "<style scoped>\n",
       "    .dataframe tbody tr th:only-of-type {\n",
       "        vertical-align: middle;\n",
       "    }\n",
       "\n",
       "    .dataframe tbody tr th {\n",
       "        vertical-align: top;\n",
       "    }\n",
       "\n",
       "    .dataframe thead th {\n",
       "        text-align: right;\n",
       "    }\n",
       "</style>\n",
       "<table border=\"1\" class=\"dataframe\">\n",
       "  <thead>\n",
       "    <tr style=\"text-align: right;\">\n",
       "      <th></th>\n",
       "      <th>Model name</th>\n",
       "      <th>F1</th>\n",
       "      <th>precison</th>\n",
       "      <th>recall</th>\n",
       "    </tr>\n",
       "  </thead>\n",
       "  <tbody>\n",
       "    <tr>\n",
       "      <th>0</th>\n",
       "      <td>LightGBM</td>\n",
       "      <td>0.965661</td>\n",
       "      <td>0.962547</td>\n",
       "      <td>0.968796</td>\n",
       "    </tr>\n",
       "  </tbody>\n",
       "</table>\n",
       "</div>"
      ],
      "text/plain": [
       "  Model name        F1  precison    recall\n",
       "0   LightGBM  0.965661  0.962547  0.968796"
      ]
     },
     "execution_count": 28,
     "metadata": {},
     "output_type": "execute_result"
    }
   ],
   "source": [
    "# model\n",
    "model_lgb = lgb.LGBMClassifier( n_jobs=-1, random_state=42 ).fit( X_train, y_train )\n",
    "\n",
    "# prediction\n",
    "yhat_lgb = model_lgb.predict( X_val )\n",
    "\n",
    "# performance\n",
    "model_lgb_results = ml_error( 'LightGBM',  y_val, yhat_lgb )\n",
    "model_lgb_results"
   ]
  },
  {
   "attachments": {},
   "cell_type": "markdown",
   "metadata": {},
   "source": [
    "### 8.1.1 Cross Validation"
   ]
  },
  {
   "cell_type": "code",
   "execution_count": 29,
   "metadata": {},
   "outputs": [
    {
     "name": "stdout",
     "output_type": "stream",
     "text": [
      "0.965353382007106 +/- 0.0011347876851115443\n"
     ]
    }
   ],
   "source": [
    "# cross validation\n",
    "kfold = KFold(n_splits=5, random_state=1, shuffle=True)\n",
    "cv = cross_val_score(model_lgb, X, Y, scoring='f1', cv=kfold, n_jobs=-1, error_score='raise' )\n",
    "print( \"{} +/- {}\".format( np.mean(cv), np.std(cv) ))"
   ]
  },
  {
   "attachments": {},
   "cell_type": "markdown",
   "metadata": {},
   "source": [
    "## 8.2 XGBoost"
   ]
  },
  {
   "cell_type": "code",
   "execution_count": 30,
   "metadata": {},
   "outputs": [
    {
     "data": {
      "text/html": [
       "<div>\n",
       "<style scoped>\n",
       "    .dataframe tbody tr th:only-of-type {\n",
       "        vertical-align: middle;\n",
       "    }\n",
       "\n",
       "    .dataframe tbody tr th {\n",
       "        vertical-align: top;\n",
       "    }\n",
       "\n",
       "    .dataframe thead th {\n",
       "        text-align: right;\n",
       "    }\n",
       "</style>\n",
       "<table border=\"1\" class=\"dataframe\">\n",
       "  <thead>\n",
       "    <tr style=\"text-align: right;\">\n",
       "      <th></th>\n",
       "      <th>Model name</th>\n",
       "      <th>F1</th>\n",
       "      <th>precison</th>\n",
       "      <th>recall</th>\n",
       "    </tr>\n",
       "  </thead>\n",
       "  <tbody>\n",
       "    <tr>\n",
       "      <th>0</th>\n",
       "      <td>XGBoost</td>\n",
       "      <td>0.976444</td>\n",
       "      <td>0.974814</td>\n",
       "      <td>0.97808</td>\n",
       "    </tr>\n",
       "  </tbody>\n",
       "</table>\n",
       "</div>"
      ],
      "text/plain": [
       "  Model name        F1  precison   recall\n",
       "0    XGBoost  0.976444  0.974814  0.97808"
      ]
     },
     "execution_count": 30,
     "metadata": {},
     "output_type": "execute_result"
    }
   ],
   "source": [
    "# model\n",
    "model_xgb = xgb.XGBClassifier( n_jobs=-1, random_state=42 ).fit( X_train, y_train )\n",
    "\n",
    "# prediction\n",
    "yhat_xgb = model_xgb.predict( X_val )\n",
    "\n",
    "# performance\n",
    "model_xgb_results = ml_error( 'XGBoost',  y_val, yhat_xgb )\n",
    "model_xgb_results"
   ]
  },
  {
   "attachments": {},
   "cell_type": "markdown",
   "metadata": {},
   "source": [
    "### 8.2.1 Cross Validation"
   ]
  },
  {
   "cell_type": "code",
   "execution_count": 31,
   "metadata": {},
   "outputs": [
    {
     "name": "stdout",
     "output_type": "stream",
     "text": [
      "0.9762555445855238 +/- 0.0006451408999156162\n"
     ]
    }
   ],
   "source": [
    "# cross validation\n",
    "kfold = KFold(n_splits=5, random_state=1, shuffle=True)\n",
    "cv = cross_val_score(model_xgb, X, Y, scoring='f1', cv=kfold, n_jobs=-1, error_score='raise' )\n",
    "print( \"{} +/- {}\".format( np.mean(cv), np.std(cv) ))"
   ]
  },
  {
   "attachments": {},
   "cell_type": "markdown",
   "metadata": {},
   "source": [
    "## 8.3 Random Forest Classifier"
   ]
  },
  {
   "cell_type": "code",
   "execution_count": 32,
   "metadata": {},
   "outputs": [
    {
     "data": {
      "text/html": [
       "<div>\n",
       "<style scoped>\n",
       "    .dataframe tbody tr th:only-of-type {\n",
       "        vertical-align: middle;\n",
       "    }\n",
       "\n",
       "    .dataframe tbody tr th {\n",
       "        vertical-align: top;\n",
       "    }\n",
       "\n",
       "    .dataframe thead th {\n",
       "        text-align: right;\n",
       "    }\n",
       "</style>\n",
       "<table border=\"1\" class=\"dataframe\">\n",
       "  <thead>\n",
       "    <tr style=\"text-align: right;\">\n",
       "      <th></th>\n",
       "      <th>Model name</th>\n",
       "      <th>F1</th>\n",
       "      <th>precison</th>\n",
       "      <th>recall</th>\n",
       "    </tr>\n",
       "  </thead>\n",
       "  <tbody>\n",
       "    <tr>\n",
       "      <th>0</th>\n",
       "      <td>Random Forest</td>\n",
       "      <td>0.980455</td>\n",
       "      <td>0.973505</td>\n",
       "      <td>0.987504</td>\n",
       "    </tr>\n",
       "  </tbody>\n",
       "</table>\n",
       "</div>"
      ],
      "text/plain": [
       "      Model name        F1  precison    recall\n",
       "0  Random Forest  0.980455  0.973505  0.987504"
      ]
     },
     "execution_count": 32,
     "metadata": {},
     "output_type": "execute_result"
    }
   ],
   "source": [
    "# model\n",
    "model_rf = RandomForestClassifier( n_jobs=-1, random_state=42 ).fit( X_train, y_train )\n",
    "\n",
    "# prediction\n",
    "yhat_rf = model_rf.predict( X_val )\n",
    "\n",
    "# performance\n",
    "model_rf_results = ml_error( 'Random Forest',  y_val, yhat_rf )\n",
    "model_rf_results"
   ]
  },
  {
   "attachments": {},
   "cell_type": "markdown",
   "metadata": {},
   "source": [
    "### 8.3.1 Cross Validation"
   ]
  },
  {
   "cell_type": "code",
   "execution_count": 33,
   "metadata": {},
   "outputs": [
    {
     "name": "stdout",
     "output_type": "stream",
     "text": [
      "0.9800818003071574 +/- 0.0009492414664711094\n"
     ]
    }
   ],
   "source": [
    "# cross validation\n",
    "kfold = KFold(n_splits=5, random_state=1, shuffle=True)\n",
    "cv = cross_val_score(model_rf, X, Y, scoring='f1', cv=kfold, n_jobs=-1, error_score='raise' )\n",
    "print( \"{} +/- {}\".format( np.mean(cv), np.std(cv) ))"
   ]
  },
  {
   "attachments": {},
   "cell_type": "markdown",
   "metadata": {},
   "source": [
    "## 8.4 Extra Trees Classifier"
   ]
  },
  {
   "cell_type": "code",
   "execution_count": 34,
   "metadata": {},
   "outputs": [
    {
     "data": {
      "text/html": [
       "<div>\n",
       "<style scoped>\n",
       "    .dataframe tbody tr th:only-of-type {\n",
       "        vertical-align: middle;\n",
       "    }\n",
       "\n",
       "    .dataframe tbody tr th {\n",
       "        vertical-align: top;\n",
       "    }\n",
       "\n",
       "    .dataframe thead th {\n",
       "        text-align: right;\n",
       "    }\n",
       "</style>\n",
       "<table border=\"1\" class=\"dataframe\">\n",
       "  <thead>\n",
       "    <tr style=\"text-align: right;\">\n",
       "      <th></th>\n",
       "      <th>Model name</th>\n",
       "      <th>F1</th>\n",
       "      <th>precison</th>\n",
       "      <th>recall</th>\n",
       "    </tr>\n",
       "  </thead>\n",
       "  <tbody>\n",
       "    <tr>\n",
       "      <th>0</th>\n",
       "      <td>Extra Trees</td>\n",
       "      <td>0.986343</td>\n",
       "      <td>0.979552</td>\n",
       "      <td>0.993229</td>\n",
       "    </tr>\n",
       "  </tbody>\n",
       "</table>\n",
       "</div>"
      ],
      "text/plain": [
       "    Model name        F1  precison    recall\n",
       "0  Extra Trees  0.986343  0.979552  0.993229"
      ]
     },
     "execution_count": 34,
     "metadata": {},
     "output_type": "execute_result"
    }
   ],
   "source": [
    "# model\n",
    "model_et = ExtraTreesClassifier( n_jobs=-1, random_state=42 ).fit( X_train, y_train )\n",
    "\n",
    "# prediction\n",
    "yhat_et = model_et.predict( X_val )\n",
    "\n",
    "# performance\n",
    "model_et_results = ml_error( 'Extra Trees',  y_val, yhat_et )\n",
    "model_et_results"
   ]
  },
  {
   "attachments": {},
   "cell_type": "markdown",
   "metadata": {},
   "source": [
    "### 8.3.1 Cross Validation"
   ]
  },
  {
   "cell_type": "code",
   "execution_count": 35,
   "metadata": {},
   "outputs": [
    {
     "name": "stdout",
     "output_type": "stream",
     "text": [
      "0.9861646185926481 +/- 0.0005651692887522739\n"
     ]
    }
   ],
   "source": [
    "# cross validation\n",
    "kfold = KFold(n_splits=5, random_state=1, shuffle=True)\n",
    "cv = cross_val_score(model_et, X, Y, scoring='f1', cv=kfold, n_jobs=-1, error_score='raise' )\n",
    "print( \"{} +/- {}\".format( np.mean(cv), np.std(cv) ))"
   ]
  },
  {
   "attachments": {},
   "cell_type": "markdown",
   "metadata": {},
   "source": [
    "# 9.0 HYPERPARAMETER FINE TUNING - BAYESIAN OPTIMIZATION"
   ]
  },
  {
   "attachments": {},
   "cell_type": "markdown",
   "metadata": {},
   "source": [
    "## 9.1.1 XGBoost"
   ]
  },
  {
   "cell_type": "code",
   "execution_count": 36,
   "metadata": {},
   "outputs": [
    {
     "name": "stdout",
     "output_type": "stream",
     "text": [
      "Iteration No: 1 started. Evaluating function at random point.\n",
      "[1215, 2, 141, 6, 0.5289578399255526] \n",
      "\n",
      "Iteration No: 1 ended. Evaluation done at random point.\n",
      "Time taken: 36.3585\n",
      "Function value obtained: -0.9507\n",
      "Current minimum: -0.9507\n",
      "Iteration No: 2 started. Evaluating function at random point.\n",
      "[240, 5, 61, 2, 0.703255202006525] \n",
      "\n",
      "Iteration No: 2 ended. Evaluation done at random point.\n",
      "Time taken: 20.4561\n",
      "Function value obtained: -0.9618\n",
      "Current minimum: -0.9618\n",
      "Iteration No: 3 started. Evaluating function at random point.\n",
      "[179, 7, 169, 1, 0.9933798253975351] \n",
      "\n",
      "Iteration No: 3 ended. Evaluation done at random point.\n",
      "Time taken: 12.8464\n",
      "Function value obtained: -0.9444\n",
      "Current minimum: -0.9618\n",
      "Iteration No: 4 started. Evaluating function at random point.\n",
      "[964, 6, 2, 1, 0.5960584612196308] \n",
      "\n",
      "Iteration No: 4 ended. Evaluation done at random point.\n",
      "Time taken: 167.3200\n",
      "Function value obtained: -0.9786\n",
      "Current minimum: -0.9786\n",
      "Iteration No: 5 started. Evaluating function at random point.\n",
      "[660, 1, 175, 3, 0.22701546935289768] \n",
      "\n",
      "Iteration No: 5 ended. Evaluation done at random point.\n",
      "Time taken: 23.8977\n",
      "Function value obtained: -0.9510\n",
      "Current minimum: -0.9786\n",
      "Iteration No: 6 started. Evaluating function at random point.\n",
      "[966, 4, 177, 5, 0.8809493457258727] \n",
      "\n",
      "Iteration No: 6 ended. Evaluation done at random point.\n",
      "Time taken: 44.3563\n",
      "Function value obtained: -0.9441\n",
      "Current minimum: -0.9786\n",
      "Iteration No: 7 started. Evaluating function at random point.\n",
      "[1052, 5, 3, 9, 0.6287949851687085] \n",
      "\n",
      "Iteration No: 7 ended. Evaluation done at random point.\n",
      "Time taken: 154.0399\n",
      "Function value obtained: -0.9785\n",
      "Current minimum: -0.9786\n",
      "Iteration No: 8 started. Evaluating function at random point.\n",
      "[640, 1, 42, 3, 0.7307739910016395] \n",
      "\n",
      "Iteration No: 8 ended. Evaluation done at random point.\n",
      "Time taken: 21.0973\n",
      "Function value obtained: -0.9680\n",
      "Current minimum: -0.9786\n",
      "Iteration No: 9 started. Evaluating function at random point.\n",
      "[954, 8, 32, 5, 0.304900674619853] \n",
      "\n",
      "Iteration No: 9 ended. Evaluation done at random point.\n",
      "Time taken: 61.8917\n",
      "Function value obtained: -0.9674\n",
      "Current minimum: -0.9786\n",
      "Iteration No: 10 started. Evaluating function at random point.\n",
      "[1158, 4, 38, 6, 0.1766162985872248] \n",
      "\n",
      "Iteration No: 10 ended. Evaluation done at random point.\n",
      "Time taken: 52.9408\n",
      "Function value obtained: -0.9686\n",
      "Current minimum: -0.9786\n",
      "Iteration No: 11 started. Searching for the next optimal point.\n",
      "[100, 1, 1, 1, 0.15] \n",
      "\n",
      "Iteration No: 11 ended. Search finished for the next optimal point.\n",
      "Time taken: 5.9391\n",
      "Function value obtained: -0.9724\n",
      "Current minimum: -0.9786\n",
      "Iteration No: 12 started. Searching for the next optimal point.\n",
      "[100, 6, 1, 10, 0.15] \n",
      "\n",
      "Iteration No: 12 ended. Search finished for the next optimal point.\n",
      "Time taken: 5.4981\n",
      "Function value obtained: -0.9702\n",
      "Current minimum: -0.9786\n",
      "Iteration No: 13 started. Searching for the next optimal point.\n",
      "[1500, 9, 1, 1, 1.0] \n",
      "\n",
      "Iteration No: 13 ended. Search finished for the next optimal point.\n",
      "Time taken: 155.5108\n",
      "Function value obtained: -0.9740\n",
      "Current minimum: -0.9786\n",
      "Iteration No: 14 started. Searching for the next optimal point.\n",
      "[278, 1, 2, 10, 0.9328091504360572] \n",
      "\n",
      "Iteration No: 14 ended. Search finished for the next optimal point.\n",
      "Time taken: 28.8046\n",
      "Function value obtained: -0.9820\n",
      "Current minimum: -0.9820\n",
      "Iteration No: 15 started. Searching for the next optimal point.\n",
      "[100, 1, 1, 1, 0.7522910070051633] \n",
      "\n",
      "Iteration No: 15 ended. Search finished for the next optimal point.\n",
      "Time taken: 9.1033\n",
      "Function value obtained: -0.9755\n",
      "Current minimum: -0.9820\n",
      "Iteration No: 16 started. Searching for the next optimal point.\n",
      "[1500, 1, 1, 10, 1.0] \n",
      "\n",
      "Iteration No: 16 ended. Search finished for the next optimal point.\n",
      "Time taken: 157.9593\n",
      "Function value obtained: -0.9834\n",
      "Current minimum: -0.9834\n",
      "Iteration No: 17 started. Searching for the next optimal point.\n",
      "[1500, 9, 1, 10, 1.0] \n",
      "\n",
      "Iteration No: 17 ended. Search finished for the next optimal point.\n",
      "Time taken: 165.9305\n",
      "Function value obtained: -0.9732\n",
      "Current minimum: -0.9834\n",
      "Iteration No: 18 started. Searching for the next optimal point.\n",
      "[1500, 3, 1, 10, 1.0] \n",
      "\n",
      "Iteration No: 18 ended. Search finished for the next optimal point.\n",
      "Time taken: 159.4921\n",
      "Function value obtained: -0.9799\n",
      "Current minimum: -0.9834\n",
      "Iteration No: 19 started. Searching for the next optimal point.\n",
      "[1500, 1, 1, 10, 0.481365064940779] \n",
      "\n",
      "Iteration No: 19 ended. Search finished for the next optimal point.\n",
      "Time taken: 103.1520\n",
      "Function value obtained: -0.9830\n",
      "Current minimum: -0.9834\n",
      "Iteration No: 20 started. Searching for the next optimal point.\n",
      "[1029, 1, 1, 10, 1.0] \n",
      "\n",
      "Iteration No: 20 ended. Search finished for the next optimal point.\n",
      "Time taken: 109.2515\n",
      "Function value obtained: -0.9834\n",
      "Current minimum: -0.9834\n",
      "Iteration No: 21 started. Searching for the next optimal point.\n",
      "[1500, 1, 1, 1, 0.48680547727382506] \n",
      "\n",
      "Iteration No: 21 ended. Search finished for the next optimal point.\n",
      "Time taken: 109.4556\n",
      "Function value obtained: -0.9841\n",
      "Current minimum: -0.9841\n",
      "Iteration No: 22 started. Searching for the next optimal point.\n",
      "[174, 9, 13, 5, 0.9796852677993403] \n",
      "\n",
      "Iteration No: 22 ended. Search finished for the next optimal point.\n",
      "Time taken: 20.0548\n",
      "Function value obtained: -0.9694\n",
      "Current minimum: -0.9841\n",
      "Iteration No: 23 started. Searching for the next optimal point.\n",
      "[1500, 1, 1, 1, 0.15] \n",
      "\n",
      "Iteration No: 23 ended. Search finished for the next optimal point.\n",
      "Time taken: 70.2145\n",
      "Function value obtained: -0.9835\n",
      "Current minimum: -0.9841\n",
      "Iteration No: 24 started. Searching for the next optimal point.\n",
      "[196, 9, 121, 10, 0.2135484071885408] \n",
      "\n",
      "Iteration No: 24 ended. Search finished for the next optimal point.\n",
      "Time taken: 9.1246\n",
      "Function value obtained: -0.9535\n",
      "Current minimum: -0.9841\n",
      "Iteration No: 25 started. Searching for the next optimal point.\n",
      "[1243, 1, 1, 1, 1.0] \n",
      "\n",
      "Iteration No: 25 ended. Search finished for the next optimal point.\n",
      "Time taken: 133.5524\n",
      "Function value obtained: -0.9838\n",
      "Current minimum: -0.9841\n",
      "Iteration No: 26 started. Searching for the next optimal point.\n",
      "[1492, 1, 60, 2, 0.9977233881105815] \n",
      "\n",
      "Iteration No: 26 ended. Search finished for the next optimal point.\n",
      "Time taken: 36.1507\n",
      "Function value obtained: -0.9631\n",
      "Current minimum: -0.9841\n",
      "Iteration No: 27 started. Searching for the next optimal point.\n",
      "[1487, 9, 151, 1, 0.20803848623102383] \n",
      "\n",
      "Iteration No: 27 ended. Search finished for the next optimal point.\n",
      "Time taken: 30.4056\n",
      "Function value obtained: -0.9525\n",
      "Current minimum: -0.9841\n",
      "Iteration No: 28 started. Searching for the next optimal point.\n",
      "[1326, 1, 1, 1, 0.6330312239170023] \n",
      "\n",
      "Iteration No: 28 ended. Search finished for the next optimal point.\n",
      "Time taken: 112.1846\n",
      "Function value obtained: -0.9832\n",
      "Current minimum: -0.9841\n",
      "Iteration No: 29 started. Searching for the next optimal point.\n",
      "[1495, 7, 4, 4, 0.16347848200475346] \n",
      "\n",
      "Iteration No: 29 ended. Search finished for the next optimal point.\n",
      "Time taken: 70.2725\n",
      "Function value obtained: -0.9772\n",
      "Current minimum: -0.9841\n",
      "Iteration No: 30 started. Searching for the next optimal point.\n",
      "[141, 1, 84, 9, 0.9803219871600587] \n",
      "\n",
      "Iteration No: 30 ended. Search finished for the next optimal point.\n",
      "Time taken: 9.3327\n",
      "Function value obtained: -0.9581\n",
      "Current minimum: -0.9841\n",
      "Iteration No: 31 started. Searching for the next optimal point.\n",
      "[1160, 9, 72, 10, 0.9551994670574265] \n",
      "\n",
      "Iteration No: 31 ended. Search finished for the next optimal point.\n",
      "Time taken: 117.9803\n",
      "Function value obtained: -0.9561\n",
      "Current minimum: -0.9841\n",
      "Iteration No: 32 started. Searching for the next optimal point.\n",
      "[812, 1, 5, 8, 0.17189362732612415] \n",
      "\n",
      "Iteration No: 32 ended. Search finished for the next optimal point.\n",
      "Time taken: 35.4202\n",
      "Function value obtained: -0.9815\n",
      "Current minimum: -0.9841\n",
      "Iteration No: 33 started. Searching for the next optimal point.\n",
      "[723, 1, 1, 10, 1.0] \n",
      "\n",
      "Iteration No: 33 ended. Search finished for the next optimal point.\n",
      "Time taken: 72.7437\n",
      "Function value obtained: -0.9834\n",
      "Current minimum: -0.9841\n",
      "Iteration No: 34 started. Searching for the next optimal point.\n",
      "[1266, 1, 1, 10, 0.15] \n",
      "\n",
      "Iteration No: 34 ended. Search finished for the next optimal point.\n",
      "Time taken: 51.5663\n",
      "Function value obtained: -0.9825\n",
      "Current minimum: -0.9841\n",
      "Iteration No: 35 started. Searching for the next optimal point.\n",
      "[782, 1, 1, 10, 1.0] \n",
      "\n",
      "Iteration No: 35 ended. Search finished for the next optimal point.\n",
      "Time taken: 69.3729\n",
      "Function value obtained: -0.9834\n",
      "Current minimum: -0.9841\n",
      "Iteration No: 36 started. Searching for the next optimal point.\n",
      "[1500, 1, 1, 5, 1.0] \n",
      "\n",
      "Iteration No: 36 ended. Search finished for the next optimal point.\n",
      "Time taken: 132.0209\n",
      "Function value obtained: -0.9825\n",
      "Current minimum: -0.9841\n",
      "Iteration No: 37 started. Searching for the next optimal point.\n",
      "[1474, 2, 180, 9, 0.3435850049634368] \n",
      "\n",
      "Iteration No: 37 ended. Search finished for the next optimal point.\n",
      "Time taken: 20.4411\n",
      "Function value obtained: -0.9486\n",
      "Current minimum: -0.9841\n",
      "Iteration No: 38 started. Searching for the next optimal point.\n",
      "[1466, 1, 82, 7, 0.16357538157666496] \n",
      "\n",
      "Iteration No: 38 ended. Search finished for the next optimal point.\n",
      "Time taken: 19.2685\n",
      "Function value obtained: -0.9604\n",
      "Current minimum: -0.9841\n",
      "Iteration No: 39 started. Searching for the next optimal point.\n",
      "[1500, 1, 1, 1, 0.15] \n",
      "\n",
      "Iteration No: 39 ended. Search finished for the next optimal point.\n",
      "Time taken: 61.9448\n",
      "Function value obtained: -0.9835\n",
      "Current minimum: -0.9841\n",
      "Iteration No: 40 started. Searching for the next optimal point.\n",
      "[118, 9, 179, 8, 0.2994902047117406] \n",
      "\n",
      "Iteration No: 40 ended. Search finished for the next optimal point.\n",
      "Time taken: 6.0478\n",
      "Function value obtained: -0.9480\n",
      "Current minimum: -0.9841\n",
      "Iteration No: 41 started. Searching for the next optimal point.\n",
      "[563, 1, 91, 1, 0.17644944896512488] \n",
      "\n",
      "Iteration No: 41 ended. Search finished for the next optimal point.\n",
      "Time taken: 11.1182\n",
      "Function value obtained: -0.9596\n",
      "Current minimum: -0.9841\n",
      "Iteration No: 42 started. Searching for the next optimal point.\n",
      "[1226, 1, 1, 1, 0.4513021364639317] \n",
      "\n",
      "Iteration No: 42 ended. Search finished for the next optimal point.\n",
      "Time taken: 74.2964\n",
      "Function value obtained: -0.9840\n",
      "Current minimum: -0.9841\n",
      "Iteration No: 43 started. Searching for the next optimal point.\n",
      "[110, 2, 29, 10, 0.19756772602736367] \n",
      "\n",
      "Iteration No: 43 ended. Search finished for the next optimal point.\n",
      "Time taken: 5.6526\n",
      "Function value obtained: -0.9660\n",
      "Current minimum: -0.9841\n",
      "Iteration No: 44 started. Searching for the next optimal point.\n",
      "[109, 1, 174, 7, 0.9857850281959901] \n",
      "\n",
      "Iteration No: 44 ended. Search finished for the next optimal point.\n",
      "Time taken: 6.1119\n",
      "Function value obtained: -0.9455\n",
      "Current minimum: -0.9841\n",
      "Iteration No: 45 started. Searching for the next optimal point.\n",
      "[809, 1, 1, 2, 0.9565531991683504] \n",
      "\n",
      "Iteration No: 45 ended. Search finished for the next optimal point.\n",
      "Time taken: 76.8195\n",
      "Function value obtained: -0.9842\n",
      "Current minimum: -0.9842\n",
      "Iteration No: 46 started. Searching for the next optimal point.\n",
      "[850, 9, 1, 9, 0.17321598871241312] \n",
      "\n",
      "Iteration No: 46 ended. Search finished for the next optimal point.\n",
      "Time taken: 34.4480\n",
      "Function value obtained: -0.9764\n",
      "Current minimum: -0.9842\n",
      "Iteration No: 47 started. Searching for the next optimal point.\n",
      "[719, 8, 2, 1, 0.9184495113375799] \n",
      "\n",
      "Iteration No: 47 ended. Search finished for the next optimal point.\n",
      "Time taken: 68.9372\n",
      "Function value obtained: -0.9763\n",
      "Current minimum: -0.9842\n",
      "Iteration No: 48 started. Searching for the next optimal point.\n",
      "[852, 1, 1, 1, 1.0] \n",
      "\n",
      "Iteration No: 48 ended. Search finished for the next optimal point.\n",
      "Time taken: 83.9882\n",
      "Function value obtained: -0.9838\n",
      "Current minimum: -0.9842\n",
      "Iteration No: 49 started. Searching for the next optimal point.\n",
      "[541, 1, 3, 2, 0.3034440243661308] \n",
      "\n",
      "Iteration No: 49 ended. Search finished for the next optimal point.\n",
      "Time taken: 31.3271\n",
      "Function value obtained: -0.9829\n",
      "Current minimum: -0.9842\n",
      "Iteration No: 50 started. Searching for the next optimal point.\n",
      "[1128, 9, 175, 10, 0.17165332907503886] \n",
      "\n",
      "Iteration No: 50 ended. Search finished for the next optimal point.\n",
      "Time taken: 22.2262\n",
      "Function value obtained: -0.9494\n",
      "Current minimum: -0.9842\n"
     ]
    }
   ],
   "source": [
    "search_space = [(100, 1500), #n_estimators\n",
    "                (1, 9), #gamma, \n",
    "                (1, 180),#reg_alpha\n",
    "                (1, 10), #min_child_weight\n",
    "                (0.15, 1.0) #colsample_bytree\n",
    "]\n",
    "\n",
    "def treinar_modelo( params ):\n",
    "    n_estimators = params[0]\n",
    "    gamma = params[1]\n",
    "    reg_alpha = params[2]\n",
    "    min_child_weight = params[3]\n",
    "    colsample_bytree = params[4]\n",
    "\n",
    "    print(params, '\\n')\n",
    "\n",
    "    xgb_model = xgb.XGBClassifier( n_estimators=n_estimators, gamma=gamma, reg_alpha=reg_alpha, min_child_weight=min_child_weight, colsample_bytree=colsample_bytree, n_jobs=-1, random_state=42)\n",
    "    xgb_model.fit( X_train, y_train )\n",
    "\n",
    "    yhat_xgb = xgb_model.predict( X_val )\n",
    "\n",
    "    return -m.f1_score( y_val, yhat_xgb )\n",
    "\n",
    "result = gp_minimize( treinar_modelo, search_space, n_calls = 50, n_initial_points = 10, verbose=True, n_jobs=-1, random_state= 42 )"
   ]
  },
  {
   "cell_type": "code",
   "execution_count": 37,
   "metadata": {},
   "outputs": [
    {
     "data": {
      "text/plain": [
       "[809, 1, 1, 2, 0.9565531991683504]"
      ]
     },
     "execution_count": 37,
     "metadata": {},
     "output_type": "execute_result"
    }
   ],
   "source": [
    "result.x"
   ]
  },
  {
   "cell_type": "code",
   "execution_count": 45,
   "metadata": {},
   "outputs": [],
   "source": [
    "# training final model tuned\n",
    "model_xgb = xgb.XGBClassifier( n_estimators=809, gamma=1, reg_alpha=1, min_child_weight=2,\n",
    "                              colsample_bytree=0.9565531991683504, n_jobs=-1, random_state=42 ).fit( X_train, y_train )\n",
    "pickle.dump( model_xgb, open( 'model/model.pkl', 'wb' ) )"
   ]
  }
 ],
 "metadata": {
  "kernelspec": {
   "display_name": "Python 3.9.13 64-bit (microsoft store)",
   "language": "python",
   "name": "python3"
  },
  "language_info": {
   "codemirror_mode": {
    "name": "ipython",
    "version": 3
   },
   "file_extension": ".py",
   "mimetype": "text/x-python",
   "name": "python",
   "nbconvert_exporter": "python",
   "pygments_lexer": "ipython3",
   "version": "3.9.13"
  },
  "orig_nbformat": 4,
  "vscode": {
   "interpreter": {
    "hash": "5e41ca046b3d9885ca897a71fa607c661abdd256ec5b789ecb59479222986451"
   }
  }
 },
 "nbformat": 4,
 "nbformat_minor": 2
}
